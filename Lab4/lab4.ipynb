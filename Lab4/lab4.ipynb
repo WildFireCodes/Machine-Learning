{
 "cells": [
  {
   "cell_type": "code",
   "execution_count": 18,
   "metadata": {},
   "outputs": [],
   "source": [
    "from sklearn.ensemble import RandomForestClassifier, GradientBoostingClassifier, AdaBoostClassifier\n",
    "from sklearn.linear_model import LogisticRegression\n",
    "from sklearn.metrics import ConfusionMatrixDisplay\n",
    "from sklearn.metrics import roc_auc_score\n",
    "import matplotlib.pyplot as plt\n",
    "from typing import Union\n",
    "import pandas as pd\n",
    "import numpy as np"
   ]
  },
  {
   "cell_type": "code",
   "execution_count": 2,
   "metadata": {},
   "outputs": [],
   "source": [
    "ModelRegressor = Union[RandomForestClassifier, GradientBoostingClassifier, AdaBoostClassifier, LogisticRegression]"
   ]
  },
  {
   "cell_type": "code",
   "execution_count": 3,
   "metadata": {},
   "outputs": [],
   "source": [
    "def dummy_fit_predict(classifier: ModelRegressor, X_train: pd.DataFrame, X_test: pd.DataFrame, y_train: pd.DataFrame) -> tuple():\n",
    "    if X_train.empty or X_test.empty or y_train.empty:\n",
    "        raise ValueError(\"Empty set passed!\")\n",
    "    \n",
    "    classifier.fit(X_train, np.ravel(y_train))\n",
    "    pred_train = classifier.predict_proba(X_train)\n",
    "    pred_test = classifier.predict_proba(X_test.fillna(0))\n",
    "\n",
    "    return pred_train, pred_test\n"
   ]
  },
  {
   "cell_type": "code",
   "execution_count": 4,
   "metadata": {},
   "outputs": [],
   "source": [
    "def dummy_roc_auc_score(y_true: np.ndarray, y_score: np.ndarray) -> np.float64:\n",
    "    return roc_auc_score(y_true, y_score[:, 1])"
   ]
  },
  {
   "cell_type": "markdown",
   "metadata": {},
   "source": [
    "<h1> 1. Wczytanie przetworzonych zbiorow danych z Lab3. </h1>"
   ]
  },
  {
   "cell_type": "code",
   "execution_count": 5,
   "metadata": {},
   "outputs": [],
   "source": [
    "X_train = pd.read_csv('X_train.csv', usecols = [i for i in range(1,7)])\n",
    "X_test = pd.read_csv('X_test.csv', usecols = [i for i in range(1,7)])\n",
    "y_train = pd.read_csv('y_train.csv', usecols = [1])\n",
    "y_test = pd.read_csv('y_test.csv', usecols = [1])"
   ]
  },
  {
   "cell_type": "code",
   "execution_count": 6,
   "metadata": {},
   "outputs": [
    {
     "data": {
      "text/html": [
       "<div>\n",
       "<style scoped>\n",
       "    .dataframe tbody tr th:only-of-type {\n",
       "        vertical-align: middle;\n",
       "    }\n",
       "\n",
       "    .dataframe tbody tr th {\n",
       "        vertical-align: top;\n",
       "    }\n",
       "\n",
       "    .dataframe thead th {\n",
       "        text-align: right;\n",
       "    }\n",
       "</style>\n",
       "<table border=\"1\" class=\"dataframe\">\n",
       "  <thead>\n",
       "    <tr style=\"text-align: right;\">\n",
       "      <th></th>\n",
       "      <th>sex</th>\n",
       "      <th>cabin</th>\n",
       "      <th>CabinReduced</th>\n",
       "      <th>sex_mapped</th>\n",
       "      <th>cabin_mapped</th>\n",
       "      <th>CabinReduced_mapped</th>\n",
       "    </tr>\n",
       "  </thead>\n",
       "  <tbody>\n",
       "    <tr>\n",
       "      <th>0</th>\n",
       "      <td>female</td>\n",
       "      <td>NaN</td>\n",
       "      <td>NaN</td>\n",
       "      <td>0</td>\n",
       "      <td>0</td>\n",
       "      <td>0</td>\n",
       "    </tr>\n",
       "    <tr>\n",
       "      <th>1</th>\n",
       "      <td>female</td>\n",
       "      <td>NaN</td>\n",
       "      <td>NaN</td>\n",
       "      <td>0</td>\n",
       "      <td>0</td>\n",
       "      <td>0</td>\n",
       "    </tr>\n",
       "    <tr>\n",
       "      <th>2</th>\n",
       "      <td>female</td>\n",
       "      <td>NaN</td>\n",
       "      <td>NaN</td>\n",
       "      <td>0</td>\n",
       "      <td>0</td>\n",
       "      <td>0</td>\n",
       "    </tr>\n",
       "    <tr>\n",
       "      <th>3</th>\n",
       "      <td>male</td>\n",
       "      <td>NaN</td>\n",
       "      <td>NaN</td>\n",
       "      <td>1</td>\n",
       "      <td>0</td>\n",
       "      <td>0</td>\n",
       "    </tr>\n",
       "    <tr>\n",
       "      <th>4</th>\n",
       "      <td>female</td>\n",
       "      <td>NaN</td>\n",
       "      <td>NaN</td>\n",
       "      <td>0</td>\n",
       "      <td>0</td>\n",
       "      <td>0</td>\n",
       "    </tr>\n",
       "    <tr>\n",
       "      <th>5</th>\n",
       "      <td>male</td>\n",
       "      <td>NaN</td>\n",
       "      <td>NaN</td>\n",
       "      <td>1</td>\n",
       "      <td>0</td>\n",
       "      <td>0</td>\n",
       "    </tr>\n",
       "    <tr>\n",
       "      <th>6</th>\n",
       "      <td>female</td>\n",
       "      <td>E36</td>\n",
       "      <td>E</td>\n",
       "      <td>0</td>\n",
       "      <td>1</td>\n",
       "      <td>1</td>\n",
       "    </tr>\n",
       "    <tr>\n",
       "      <th>7</th>\n",
       "      <td>female</td>\n",
       "      <td>NaN</td>\n",
       "      <td>NaN</td>\n",
       "      <td>0</td>\n",
       "      <td>0</td>\n",
       "      <td>0</td>\n",
       "    </tr>\n",
       "    <tr>\n",
       "      <th>8</th>\n",
       "      <td>male</td>\n",
       "      <td>C68</td>\n",
       "      <td>C</td>\n",
       "      <td>1</td>\n",
       "      <td>2</td>\n",
       "      <td>2</td>\n",
       "    </tr>\n",
       "    <tr>\n",
       "      <th>9</th>\n",
       "      <td>male</td>\n",
       "      <td>E24</td>\n",
       "      <td>E</td>\n",
       "      <td>1</td>\n",
       "      <td>3</td>\n",
       "      <td>1</td>\n",
       "    </tr>\n",
       "  </tbody>\n",
       "</table>\n",
       "</div>"
      ],
      "text/plain": [
       "      sex cabin CabinReduced  sex_mapped  cabin_mapped  CabinReduced_mapped\n",
       "0  female   NaN          NaN           0             0                    0\n",
       "1  female   NaN          NaN           0             0                    0\n",
       "2  female   NaN          NaN           0             0                    0\n",
       "3    male   NaN          NaN           1             0                    0\n",
       "4  female   NaN          NaN           0             0                    0\n",
       "5    male   NaN          NaN           1             0                    0\n",
       "6  female   E36            E           0             1                    1\n",
       "7  female   NaN          NaN           0             0                    0\n",
       "8    male   C68            C           1             2                    2\n",
       "9    male   E24            E           1             3                    1"
      ]
     },
     "execution_count": 6,
     "metadata": {},
     "output_type": "execute_result"
    }
   ],
   "source": [
    "X_train.head(10)"
   ]
  },
  {
   "cell_type": "markdown",
   "metadata": {},
   "source": [
    "<h1> 2. Uzycie algorytmu Random Forests </h1>"
   ]
  },
  {
   "cell_type": "code",
   "execution_count": null,
   "metadata": {},
   "outputs": [],
   "source": [
    "RF = RandomForestClassifier(n_estimators = 200, random_state = 42)"
   ]
  },
  {
   "cell_type": "markdown",
   "metadata": {},
   "source": [
    "<h2> 2.1 Dla danych o wysokiej liczebnosci cech. </h2>"
   ]
  },
  {
   "cell_type": "code",
   "execution_count": 7,
   "metadata": {},
   "outputs": [
    {
     "name": "stdout",
     "output_type": "stream",
     "text": [
      "Wynik dla zbioru treningowego: 0.8541, wynik dla zbioru testowego: 0.7608\n"
     ]
    }
   ],
   "source": [
    "pred_train, pred_test = dummy_fit_predict(RF, X_train[['sex_mapped', 'cabin_mapped']], X_test[['sex_mapped', 'cabin_mapped']], y_train)\n",
    "\n",
    "print(f'Wynik dla zbioru treningowego: {dummy_roc_auc_score(y_train, pred_train):.4f}, wynik dla zbioru testowego: {dummy_roc_auc_score(y_test, pred_test):.4f}')"
   ]
  },
  {
   "cell_type": "markdown",
   "metadata": {},
   "source": [
    "<h2> 2.2 Dla danych o niskiej liczebnosci cech."
   ]
  },
  {
   "cell_type": "code",
   "execution_count": 8,
   "metadata": {},
   "outputs": [
    {
     "name": "stdout",
     "output_type": "stream",
     "text": [
      "Wynik dla zbioru treningowego: 0.8164, wynik dla zbioru testowego: 0.8017\n"
     ]
    }
   ],
   "source": [
    "pred_train, pred_test = dummy_fit_predict(RF, X_train[['sex_mapped', 'CabinReduced_mapped']], X_test[['sex_mapped', 'CabinReduced_mapped']], y_train)\n",
    "\n",
    "print(f'Wynik dla zbioru treningowego: {dummy_roc_auc_score(y_train, pred_train):.4f}, wynik dla zbioru testowego: {dummy_roc_auc_score(y_test, pred_test):.4f}')"
   ]
  },
  {
   "cell_type": "markdown",
   "metadata": {},
   "source": [
    "<h1> 3. Uzycie algorytmu Logistic Regression. </h1>"
   ]
  },
  {
   "cell_type": "code",
   "execution_count": null,
   "metadata": {},
   "outputs": [],
   "source": [
    "LR = LogisticRegression(random_state = 42, max_iter = 1000)"
   ]
  },
  {
   "cell_type": "markdown",
   "metadata": {},
   "source": [
    "<h2> 3.1 Dla danych o wysokiej liczebnosci cech."
   ]
  },
  {
   "cell_type": "code",
   "execution_count": 9,
   "metadata": {},
   "outputs": [
    {
     "name": "stdout",
     "output_type": "stream",
     "text": [
      "Wynik dla zbioru treningowego: 0.8136, wynik dla zbioru testowego: 0.7821\n"
     ]
    }
   ],
   "source": [
    "pred_train, pred_test = dummy_fit_predict(LR, X_train[['sex_mapped', 'cabin_mapped']], X_test[['sex_mapped', 'cabin_mapped']], y_train)\n",
    "\n",
    "print(f'Wynik dla zbioru treningowego: {dummy_roc_auc_score(y_train, pred_train):.4f}, wynik dla zbioru testowego: {dummy_roc_auc_score(y_test, pred_test):.4f}')"
   ]
  },
  {
   "cell_type": "markdown",
   "metadata": {},
   "source": [
    "<h2> 3.2 Dla danych o niskiej liczebnosci cech. </h2>"
   ]
  },
  {
   "cell_type": "code",
   "execution_count": 10,
   "metadata": {},
   "outputs": [
    {
     "name": "stdout",
     "output_type": "stream",
     "text": [
      "Wynik dla zbioru treningowego: 0.8123, wynik dla zbioru testowego: 0.8008\n"
     ]
    }
   ],
   "source": [
    "pred_train, pred_test = dummy_fit_predict(LR, X_train[['sex_mapped', 'CabinReduced_mapped']], X_test[['sex_mapped', 'CabinReduced_mapped']], y_train)\n",
    "\n",
    "print(f'Wynik dla zbioru treningowego: {dummy_roc_auc_score(y_train, pred_train):.4f}, wynik dla zbioru testowego: {dummy_roc_auc_score(y_test, pred_test):.4f}')"
   ]
  },
  {
   "cell_type": "markdown",
   "metadata": {},
   "source": [
    "<h1> 4. Uzycie algorytmu GradientBoostingClassifier </h1>"
   ]
  },
  {
   "cell_type": "code",
   "execution_count": 19,
   "metadata": {},
   "outputs": [],
   "source": [
    "GBC = GradientBoostingClassifier(n_estimators = 220, random_state = 42)"
   ]
  },
  {
   "cell_type": "markdown",
   "metadata": {},
   "source": [
    "<h2> 4.1 Dla danych o wysokiej liczebnosci cech."
   ]
  },
  {
   "cell_type": "code",
   "execution_count": 20,
   "metadata": {},
   "outputs": [
    {
     "name": "stdout",
     "output_type": "stream",
     "text": [
      "Wynik dla zbioru treningowego: 0.8600, wynik dla zbioru testowego: 0.7641\n"
     ]
    }
   ],
   "source": [
    "pred_train, pred_test = dummy_fit_predict(GBC, X_train[['sex_mapped', 'cabin_mapped']], X_test[['sex_mapped', 'cabin_mapped']], y_train)\n",
    "\n",
    "print(f'Wynik dla zbioru treningowego: {dummy_roc_auc_score(y_train, pred_train):.4f}, wynik dla zbioru testowego: {dummy_roc_auc_score(y_test, pred_test):.4f}')"
   ]
  },
  {
   "cell_type": "markdown",
   "metadata": {},
   "source": [
    "<h2> 4.2 Dla danych o niskiej liczebnosci cech. </h2>"
   ]
  },
  {
   "cell_type": "code",
   "execution_count": 21,
   "metadata": {},
   "outputs": [
    {
     "name": "stdout",
     "output_type": "stream",
     "text": [
      "Wynik dla zbioru treningowego: 0.8167, wynik dla zbioru testowego: 0.8015\n"
     ]
    }
   ],
   "source": [
    "pred_train, pred_test = dummy_fit_predict(GBC, X_train[['sex_mapped', 'CabinReduced_mapped']], X_test[['sex_mapped', 'CabinReduced_mapped']], y_train)\n",
    "\n",
    "print(f'Wynik dla zbioru treningowego: {dummy_roc_auc_score(y_train, pred_train):.4f}, wynik dla zbioru testowego: {dummy_roc_auc_score(y_test, pred_test):.4f}')"
   ]
  },
  {
   "cell_type": "markdown",
   "metadata": {},
   "source": [
    "<h1> 5. Uzycie algorytmu AdaBoostClassifier </h1>"
   ]
  },
  {
   "cell_type": "code",
   "execution_count": 22,
   "metadata": {},
   "outputs": [],
   "source": [
    "ABC = AdaBoostClassifier(n_estimators = 220, random_state = 42)"
   ]
  },
  {
   "cell_type": "markdown",
   "metadata": {},
   "source": [
    "<h2> 5.1 Dla danych o wysokiej liczebnosci cech. </h2>"
   ]
  },
  {
   "cell_type": "code",
   "execution_count": 24,
   "metadata": {},
   "outputs": [
    {
     "name": "stdout",
     "output_type": "stream",
     "text": [
      "Wynik dla zbioru treningowego: 0.8299, wynik dla zbioru testowego: 0.7645\n"
     ]
    }
   ],
   "source": [
    "pred_train, pred_test = dummy_fit_predict(ABC, X_train[['sex_mapped', 'cabin_mapped']], X_test[['sex_mapped', 'cabin_mapped']], y_train)\n",
    "\n",
    "print(f'Wynik dla zbioru treningowego: {dummy_roc_auc_score(y_train, pred_train):.4f}, wynik dla zbioru testowego: {dummy_roc_auc_score(y_test, pred_test):.4f}')"
   ]
  },
  {
   "cell_type": "markdown",
   "metadata": {},
   "source": [
    "<h2> 5.2 Dla danych o niskiej liczebnosci cech </h2>"
   ]
  },
  {
   "cell_type": "code",
   "execution_count": 25,
   "metadata": {},
   "outputs": [
    {
     "name": "stdout",
     "output_type": "stream",
     "text": [
      "Wynik dla zbioru treningowego: 0.8161, wynik dla zbioru testowego: 0.8001\n"
     ]
    }
   ],
   "source": [
    "pred_train, pred_test = dummy_fit_predict(ABC, X_train[['sex_mapped', 'CabinReduced_mapped']], X_test[['sex_mapped', 'CabinReduced_mapped']], y_train)\n",
    "\n",
    "print(f'Wynik dla zbioru treningowego: {dummy_roc_auc_score(y_train, pred_train):.4f}, wynik dla zbioru testowego: {dummy_roc_auc_score(y_test, pred_test):.4f}')"
   ]
  },
  {
   "cell_type": "markdown",
   "metadata": {},
   "source": [
    "<h1> 6. Analiza przeprowadzonych badan </h1> "
   ]
  },
  {
   "cell_type": "markdown",
   "metadata": {},
   "source": [
    "<h1> 7. Predict vs predict_proba </h1>"
   ]
  },
  {
   "cell_type": "code",
   "execution_count": 11,
   "metadata": {},
   "outputs": [],
   "source": [
    "y_pred = np.argmax(pred_test, axis = 1)"
   ]
  },
  {
   "cell_type": "code",
   "execution_count": 15,
   "metadata": {},
   "outputs": [
    {
     "data": {
      "image/png": "[encoded data removed]",
      "text/plain": [
       "<Figure size 432x288 with 2 Axes>"
      ]
     },
     "metadata": {
      "needs_background": "light"
     },
     "output_type": "display_data"
    }
   ],
   "source": [
    "ConfusionMatrixDisplay.from_predictions(y_test, y_pred, cmap=plt.cm.Blues)\n",
    "plt.show()"
   ]
  },
  {
   "cell_type": "code",
   "execution_count": 14,
   "metadata": {},
   "outputs": [
    {
     "name": "stdout",
     "output_type": "stream",
     "text": [
      "Confusion matrix, without normalization\n",
      "[[207  39]\n",
      " [ 49  98]]\n",
      "Normalized confusion matrix\n",
      "[[0.84 0.16]\n",
      " [0.33 0.67]]\n"
     ]
    },
    {
     "data": {
      "image/png": "[encoded data removed]",
      "text/plain": [
       "<Figure size 432x288 with 2 Axes>"
      ]
     },
     "metadata": {
      "needs_background": "light"
     },
     "output_type": "display_data"
    },
    {
     "data": {
      "image/png": "[encoded data removed]",
      "text/plain": [
       "<Figure size 432x288 with 2 Axes>"
      ]
     },
     "metadata": {
      "needs_background": "light"
     },
     "output_type": "display_data"
    }
   ],
   "source": [
    "np.set_printoptions(precision=2)\n",
    "class_names = ['sex_mapped', 'cabin_mapped']\n",
    "classifier = RF.fit(X_train[['sex_mapped', 'cabin_mapped']], np.ravel(y_train))\n",
    "\n",
    "# Plot non-normalized confusion matrix\n",
    "titles_options = [\n",
    "    (\"Confusion matrix, without normalization\", None),\n",
    "    (\"Normalized confusion matrix\", \"true\"),\n",
    "]\n",
    "for title, normalize in titles_options:\n",
    "    disp = ConfusionMatrixDisplay.from_estimator(\n",
    "        classifier,\n",
    "        X_test[['sex_mapped', 'cabin_mapped']],\n",
    "        y_test,\n",
    "        display_labels=class_names,\n",
    "        cmap=plt.cm.Blues,\n",
    "        normalize=normalize,\n",
    "    )\n",
    "    disp.ax_.set_title(title)\n",
    "\n",
    "    print(title)\n",
    "    print(disp.confusion_matrix)\n",
    "\n",
    "plt.show()\n"
   ]
  }
 ],
 "metadata": {
  "interpreter": {
   "hash": "916dbcbb3f70747c44a77c7bcd40155683ae19c65e1c03b4aa3499c5328201f1"
  },
  "kernelspec": {
   "display_name": "Python 3.9.7 64-bit",
   "language": "python",
   "name": "python3"
  },
  "language_info": {
   "codemirror_mode": {
    "name": "ipython",
    "version": 3
   },
   "file_extension": ".py",
   "mimetype": "text/x-python",
   "name": "python",
   "nbconvert_exporter": "python",
   "pygments_lexer": "ipython3",
   "version": "3.9.7"
  },
  "orig_nbformat": 4
 },
 "nbformat": 4,
 "nbformat_minor": 2
}
