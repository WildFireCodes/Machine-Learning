{
 "cells": [
  {
   "cell_type": "code",
   "execution_count": 28,
   "metadata": {},
   "outputs": [],
   "source": [
    "from sklearn.ensemble import RandomForestClassifier, GradientBoostingClassifier, AdaBoostClassifier\n",
    "from sklearn.linear_model import LogisticRegression\n",
    "from sklearn.metrics import confusion_matrix, ConfusionMatrixDisplay\n",
    "from sklearn.metrics import roc_auc_score\n",
    "import matplotlib.pyplot as plt\n",
    "from typing import Union\n",
    "import pandas as pd\n",
    "import numpy as np"
   ]
  },
  {
   "cell_type": "code",
   "execution_count": 2,
   "metadata": {},
   "outputs": [],
   "source": [
    "ModelRegressor = Union[RandomForestClassifier, GradientBoostingClassifier, AdaBoostClassifier, LogisticRegression]"
   ]
  },
  {
   "cell_type": "code",
   "execution_count": 30,
   "metadata": {},
   "outputs": [],
   "source": [
    "def dummy_fit_predict(classifier: ModelRegressor, X_train: pd.DataFrame, X_test: pd.DataFrame, y_train: pd.DataFrame) -> tuple():\n",
    "    if X_train.empty or X_test.empty or y_train.empty:\n",
    "        raise ValueError(\"Empty set passed!\")\n",
    "    \n",
    "    classifier.fit(X_train, np.ravel(y_train))\n",
    "    pred_train = classifier.predict_proba(X_train)\n",
    "    pred_test = classifier.predict_proba(X_test.fillna(0))\n",
    "\n",
    "    return pred_train, pred_test\n"
   ]
  },
  {
   "cell_type": "code",
   "execution_count": 4,
   "metadata": {},
   "outputs": [],
   "source": [
    "def dummy_roc_auc_score(y_true: np.ndarray, y_score: np.ndarray) -> np.float64:\n",
    "    return roc_auc_score(y_true, y_score[:, 1])"
   ]
  },
  {
   "cell_type": "code",
   "execution_count": 5,
   "metadata": {},
   "outputs": [],
   "source": [
    "confusion_matrix_list_high = [] #dla danych o wysokiej liczebnosci\n",
    "confusion_matrix_list_low = [] #dla danych o niskiej liczebnosci\n",
    "\n",
    "def add_confusion_matrix(y_test: np.ndarray, y_pred: np.ndarray, confusion_matrix_list: list = confusion_matrix_list_high) -> None:\n",
    "    y_pred = np.argmax(pred_test, axis = 1)\n",
    "    confusion_matrix_list.append(confusion_matrix(y_test, y_pred))"
   ]
  },
  {
   "cell_type": "markdown",
   "metadata": {},
   "source": [
    "<h1> 1. Wczytanie przetworzonych zbiorow danych z Lab3. </h1>"
   ]
  },
  {
   "cell_type": "code",
   "execution_count": 6,
   "metadata": {},
   "outputs": [],
   "source": [
    "X_train = pd.read_csv('X_train.csv', usecols = [i for i in range(1,7)])\n",
    "X_test = pd.read_csv('X_test.csv', usecols = [i for i in range(1,7)])\n",
    "y_train = pd.read_csv('y_train.csv', usecols = [1])\n",
    "y_test = pd.read_csv('y_test.csv', usecols = [1])"
   ]
  },
  {
   "cell_type": "code",
   "execution_count": 7,
   "metadata": {},
   "outputs": [
    {
     "data": {
      "text/html": [
       "<div>\n",
       "<style scoped>\n",
       "    .dataframe tbody tr th:only-of-type {\n",
       "        vertical-align: middle;\n",
       "    }\n",
       "\n",
       "    .dataframe tbody tr th {\n",
       "        vertical-align: top;\n",
       "    }\n",
       "\n",
       "    .dataframe thead th {\n",
       "        text-align: right;\n",
       "    }\n",
       "</style>\n",
       "<table border=\"1\" class=\"dataframe\">\n",
       "  <thead>\n",
       "    <tr style=\"text-align: right;\">\n",
       "      <th></th>\n",
       "      <th>sex</th>\n",
       "      <th>cabin</th>\n",
       "      <th>CabinReduced</th>\n",
       "      <th>sex_mapped</th>\n",
       "      <th>cabin_mapped</th>\n",
       "      <th>CabinReduced_mapped</th>\n",
       "    </tr>\n",
       "  </thead>\n",
       "  <tbody>\n",
       "    <tr>\n",
       "      <th>0</th>\n",
       "      <td>female</td>\n",
       "      <td>NaN</td>\n",
       "      <td>NaN</td>\n",
       "      <td>0</td>\n",
       "      <td>0</td>\n",
       "      <td>0</td>\n",
       "    </tr>\n",
       "    <tr>\n",
       "      <th>1</th>\n",
       "      <td>female</td>\n",
       "      <td>NaN</td>\n",
       "      <td>NaN</td>\n",
       "      <td>0</td>\n",
       "      <td>0</td>\n",
       "      <td>0</td>\n",
       "    </tr>\n",
       "    <tr>\n",
       "      <th>2</th>\n",
       "      <td>female</td>\n",
       "      <td>NaN</td>\n",
       "      <td>NaN</td>\n",
       "      <td>0</td>\n",
       "      <td>0</td>\n",
       "      <td>0</td>\n",
       "    </tr>\n",
       "    <tr>\n",
       "      <th>3</th>\n",
       "      <td>male</td>\n",
       "      <td>NaN</td>\n",
       "      <td>NaN</td>\n",
       "      <td>1</td>\n",
       "      <td>0</td>\n",
       "      <td>0</td>\n",
       "    </tr>\n",
       "    <tr>\n",
       "      <th>4</th>\n",
       "      <td>female</td>\n",
       "      <td>NaN</td>\n",
       "      <td>NaN</td>\n",
       "      <td>0</td>\n",
       "      <td>0</td>\n",
       "      <td>0</td>\n",
       "    </tr>\n",
       "    <tr>\n",
       "      <th>5</th>\n",
       "      <td>male</td>\n",
       "      <td>NaN</td>\n",
       "      <td>NaN</td>\n",
       "      <td>1</td>\n",
       "      <td>0</td>\n",
       "      <td>0</td>\n",
       "    </tr>\n",
       "    <tr>\n",
       "      <th>6</th>\n",
       "      <td>female</td>\n",
       "      <td>E36</td>\n",
       "      <td>E</td>\n",
       "      <td>0</td>\n",
       "      <td>1</td>\n",
       "      <td>1</td>\n",
       "    </tr>\n",
       "    <tr>\n",
       "      <th>7</th>\n",
       "      <td>female</td>\n",
       "      <td>NaN</td>\n",
       "      <td>NaN</td>\n",
       "      <td>0</td>\n",
       "      <td>0</td>\n",
       "      <td>0</td>\n",
       "    </tr>\n",
       "    <tr>\n",
       "      <th>8</th>\n",
       "      <td>male</td>\n",
       "      <td>C68</td>\n",
       "      <td>C</td>\n",
       "      <td>1</td>\n",
       "      <td>2</td>\n",
       "      <td>2</td>\n",
       "    </tr>\n",
       "    <tr>\n",
       "      <th>9</th>\n",
       "      <td>male</td>\n",
       "      <td>E24</td>\n",
       "      <td>E</td>\n",
       "      <td>1</td>\n",
       "      <td>3</td>\n",
       "      <td>1</td>\n",
       "    </tr>\n",
       "  </tbody>\n",
       "</table>\n",
       "</div>"
      ],
      "text/plain": [
       "      sex cabin CabinReduced  sex_mapped  cabin_mapped  CabinReduced_mapped\n",
       "0  female   NaN          NaN           0             0                    0\n",
       "1  female   NaN          NaN           0             0                    0\n",
       "2  female   NaN          NaN           0             0                    0\n",
       "3    male   NaN          NaN           1             0                    0\n",
       "4  female   NaN          NaN           0             0                    0\n",
       "5    male   NaN          NaN           1             0                    0\n",
       "6  female   E36            E           0             1                    1\n",
       "7  female   NaN          NaN           0             0                    0\n",
       "8    male   C68            C           1             2                    2\n",
       "9    male   E24            E           1             3                    1"
      ]
     },
     "execution_count": 7,
     "metadata": {},
     "output_type": "execute_result"
    }
   ],
   "source": [
    "X_train.head(10)"
   ]
  },
  {
   "cell_type": "markdown",
   "metadata": {},
   "source": [
    "<h1> 2. Uzycie algorytmu Random Forests. </h1>\n",
    "\n",
    "Algorytm **sklada sie z drzew decyzyjnych**- ich ilosc kontrolujemy za pomoca hiperparametru n_estimators. Klasyfikator korzysta z metody bootstrapowego probkowania danych, nastepnie \"przepuszcza\" dane przez drzewo. **Kazde pojedyncze drzewo zwraca prognoze klasyfikacji do danej klasy** (np. czy pasazer przezyl czy nie). **\"Wygrywa\" klasa z najwieksza iloscia glosow (wynikow z poszczegolnych drzew) i to ona staje sie prognoza naszego modelu**. Plusem tego klasyfikatora jest zachowanie drzew - drzewa jako las chronia sie nawzajem przed bledami poszczegolnych jednostek i razem podazaja w dobrym kierunku (chyba, ze wystapi przypadek wspolnego bladzenia w tym samym kierunku)."
   ]
  },
  {
   "cell_type": "code",
   "execution_count": 8,
   "metadata": {},
   "outputs": [],
   "source": [
    "RF = RandomForestClassifier(n_estimators = 200, random_state = 42)"
   ]
  },
  {
   "cell_type": "markdown",
   "metadata": {},
   "source": [
    "<h2> 2.1 Dla danych o wysokiej liczebnosci cech. </h2>"
   ]
  },
  {
   "cell_type": "code",
   "execution_count": 9,
   "metadata": {},
   "outputs": [
    {
     "name": "stdout",
     "output_type": "stream",
     "text": [
      "Wynik dla zbioru treningowego: 0.8541, wynik dla zbioru testowego: 0.7608\n"
     ]
    }
   ],
   "source": [
    "pred_train, pred_test = dummy_fit_predict(RF, X_train[['sex_mapped', 'cabin_mapped']], X_test[['sex_mapped', 'cabin_mapped']], y_train)\n",
    "\n",
    "print(f'Wynik dla zbioru treningowego: {dummy_roc_auc_score(y_train, pred_train):.4f}, wynik dla zbioru testowego: {dummy_roc_auc_score(y_test, pred_test):.4f}')\n",
    "\n",
    "add_confusion_matrix(y_test, pred_test)"
   ]
  },
  {
   "cell_type": "markdown",
   "metadata": {},
   "source": [
    "<h2> 2.2 Dla danych o niskiej liczebnosci cech."
   ]
  },
  {
   "cell_type": "code",
   "execution_count": 10,
   "metadata": {},
   "outputs": [
    {
     "name": "stdout",
     "output_type": "stream",
     "text": [
      "Wynik dla zbioru treningowego: 0.8164, wynik dla zbioru testowego: 0.8017\n"
     ]
    }
   ],
   "source": [
    "pred_train, pred_test = dummy_fit_predict(RF, X_train[['sex_mapped', 'CabinReduced_mapped']], X_test[['sex_mapped', 'CabinReduced_mapped']], y_train)\n",
    "\n",
    "print(f'Wynik dla zbioru treningowego: {dummy_roc_auc_score(y_train, pred_train):.4f}, wynik dla zbioru testowego: {dummy_roc_auc_score(y_test, pred_test):.4f}')\n",
    "\n",
    "add_confusion_matrix(y_test, pred_test, confusion_matrix_list_low)"
   ]
  },
  {
   "cell_type": "markdown",
   "metadata": {},
   "source": [
    "Dla danych o wysokiej liczebnosci cech (wysokiej kardynalnosci) mozemy zauwazyc zjawisko overfittingu - dla zbioru treningowego mamy zauwazalnie wyzszy wynik niz dla zbioru testowego. Dodatkowo dane o wysokiej liczebnosci cech uzyskaly wyzsze wyniki niz te o niskiej liczebnosci cech."
   ]
  },
  {
   "cell_type": "markdown",
   "metadata": {},
   "source": [
    "<h1> 3. Uzycie algorytmu Logistic Regression. </h1>"
   ]
  },
  {
   "cell_type": "markdown",
   "metadata": {},
   "source": [
    "**Regresja logistyczna dziala bardzo podobnie, jak liniowa** z tym wyjatkiem, ze na koniec otrzymujemy wynik binarny 0/1. \"Pod maska\" algorytm dziala analogicznie, tzn. wylicza wspolczynnik a (slope) nachylenia prostej oraz wyraz wolny b (bias) przy zalozeniu, ze nasza prosta linia jest dana wzorem y = ax + b. **Roznica miedzy regresja liniowa a logistyczna tutaj to przy kazdej iteracji algorytmu wspolczynniki sa mnozone przez funkcje sigmoidalna dana wzorem 1 / (1 + exp(-x)), gdzie argumentem exp jest wzor naszej prostej**. Na koniec dokonujemy klasyfikacji - **dla wynikow > 0.5 dla wyliczonej prostej zwracamy 1, dla <= 0.5 otrzymujemy 0.**"
   ]
  },
  {
   "cell_type": "code",
   "execution_count": 11,
   "metadata": {},
   "outputs": [],
   "source": [
    "LR = LogisticRegression(max_iter = 1000, random_state = 42)"
   ]
  },
  {
   "cell_type": "markdown",
   "metadata": {},
   "source": [
    "<h2> 3.1 Dla danych o wysokiej liczebnosci cech."
   ]
  },
  {
   "cell_type": "code",
   "execution_count": 12,
   "metadata": {},
   "outputs": [
    {
     "name": "stdout",
     "output_type": "stream",
     "text": [
      "Wynik dla zbioru treningowego: 0.8136, wynik dla zbioru testowego: 0.7821\n"
     ]
    }
   ],
   "source": [
    "pred_train, pred_test = dummy_fit_predict(LR, X_train[['sex_mapped', 'cabin_mapped']], X_test[['sex_mapped', 'cabin_mapped']], y_train)\n",
    "\n",
    "print(f'Wynik dla zbioru treningowego: {dummy_roc_auc_score(y_train, pred_train):.4f}, wynik dla zbioru testowego: {dummy_roc_auc_score(y_test, pred_test):.4f}')\n",
    "\n",
    "add_confusion_matrix(y_test, pred_test)"
   ]
  },
  {
   "cell_type": "markdown",
   "metadata": {},
   "source": [
    "<h2> 3.2 Dla danych o niskiej liczebnosci cech. </h2>"
   ]
  },
  {
   "cell_type": "code",
   "execution_count": 13,
   "metadata": {},
   "outputs": [
    {
     "name": "stdout",
     "output_type": "stream",
     "text": [
      "Wynik dla zbioru treningowego: 0.8123, wynik dla zbioru testowego: 0.8008\n"
     ]
    }
   ],
   "source": [
    "pred_train, pred_test = dummy_fit_predict(LR, X_train[['sex_mapped', 'CabinReduced_mapped']], X_test[['sex_mapped', 'CabinReduced_mapped']], y_train)\n",
    "\n",
    "print(f'Wynik dla zbioru treningowego: {dummy_roc_auc_score(y_train, pred_train):.4f}, wynik dla zbioru testowego: {dummy_roc_auc_score(y_test, pred_test):.4f}')\n",
    "\n",
    "add_confusion_matrix(y_test, pred_test, confusion_matrix_list_low)"
   ]
  },
  {
   "cell_type": "markdown",
   "metadata": {},
   "source": [
    "Dla regresji logistycznej mozemy wysnuc podobne konkluzje jak w przypadku RandomForest - overfitting dla danych o wysokiej liczebnosci cech z widoczna roznica miedzy zbiorami treningowym i testowym oraz nizsze wyniki dla danych o niskiej liczebnosci cech, ktore sa do siebie zblizone."
   ]
  },
  {
   "cell_type": "markdown",
   "metadata": {},
   "source": [
    "<h1> 4. Uzycie algorytmu GradientBoostingClassifier. </h1>\n",
    "\n",
    "Algorytm laczy predyktory odznaczajace sie niska dokladnoscia (tzw. slabych uczniow) w jednego silnego ucznia o duzej dokladnosci - Boosting. W ten sposob stara sie zmniejszyc popelnione bledy przez poprzednika. GradientBoosting (podobnie jak np AdaBoost) dazy do **minimalizacji bledow poprzednika**, ale robi to przez **dopasowanie do bledow reszt (residuals errors)**. Najpierw tworzymy proste drzewo decyzyjne o okreslonej glebokosci (mozemy tym sterowac przez hiperparametry). Natepnie wyliczamy blad, jaki zostal popelniony (**blad to roznica miedzy wartoscia rzeczywista a przewidziana**) i staramy sie go zminimalizowac w nastepnym kroku. Tworzymy wiec kolejne drzewo i wyliczamy blad resztkowy (roznica miedzy wartoscia rzeczywista a przewidziana przez poprzednika) i **przemnazamy przez tzw. learning_rate, przez co zmienia sie przewidziana wartosc**. W ten sposob budujemy kolejne predyktory jako sume poprzednich i za pomoca wielu malych krokow zmierzamy do najlepszego rozwiazania."
   ]
  },
  {
   "cell_type": "code",
   "execution_count": 14,
   "metadata": {},
   "outputs": [],
   "source": [
    "GBC = GradientBoostingClassifier(n_estimators = 220, random_state = 42)"
   ]
  },
  {
   "cell_type": "markdown",
   "metadata": {},
   "source": [
    "<h2> 4.1 Dla danych o wysokiej liczebnosci cech."
   ]
  },
  {
   "cell_type": "code",
   "execution_count": 15,
   "metadata": {},
   "outputs": [
    {
     "name": "stdout",
     "output_type": "stream",
     "text": [
      "Wynik dla zbioru treningowego: 0.8600, wynik dla zbioru testowego: 0.7641\n"
     ]
    }
   ],
   "source": [
    "pred_train, pred_test = dummy_fit_predict(GBC, X_train[['sex_mapped', 'cabin_mapped']], X_test[['sex_mapped', 'cabin_mapped']], y_train)\n",
    "\n",
    "print(f'Wynik dla zbioru treningowego: {dummy_roc_auc_score(y_train, pred_train):.4f}, wynik dla zbioru testowego: {dummy_roc_auc_score(y_test, pred_test):.4f}')\n",
    "\n",
    "add_confusion_matrix(y_test, pred_test)"
   ]
  },
  {
   "cell_type": "markdown",
   "metadata": {},
   "source": [
    "<h2> 4.2 Dla danych o niskiej liczebnosci cech. </h2>"
   ]
  },
  {
   "cell_type": "code",
   "execution_count": 16,
   "metadata": {},
   "outputs": [
    {
     "name": "stdout",
     "output_type": "stream",
     "text": [
      "Wynik dla zbioru treningowego: 0.8167, wynik dla zbioru testowego: 0.8015\n"
     ]
    }
   ],
   "source": [
    "pred_train, pred_test = dummy_fit_predict(GBC, X_train[['sex_mapped', 'CabinReduced_mapped']], X_test[['sex_mapped', 'CabinReduced_mapped']], y_train)\n",
    "\n",
    "print(f'Wynik dla zbioru treningowego: {dummy_roc_auc_score(y_train, pred_train):.4f}, wynik dla zbioru testowego: {dummy_roc_auc_score(y_test, pred_test):.4f}')\n",
    "\n",
    "add_confusion_matrix(y_test, pred_test, confusion_matrix_list_low)"
   ]
  },
  {
   "cell_type": "markdown",
   "metadata": {},
   "source": [
    "Dla GradientBoostingClassifier widzimy podobne zachowanie, jak dla wczesniejszych klasyfikatorow, przy czym zjawisko overfittingu dla danych treningowych jest najbardziej zauwazalne - roznica dla danych o wysokiej kardynalnosci wynosi az 0.1."
   ]
  },
  {
   "cell_type": "markdown",
   "metadata": {},
   "source": [
    "<h1> 5. Uzycie algorytmu AdaBoostClassifier. </h1>\n",
    "\n",
    "Algorytm dziala w oparciu o **bardzo plytkie drzewa (maja jeden poziom glebokosci, czyli dwa liscie)**. Poczatkowo dla kazdej probki danych wyliczamy wage - 1 / liczba probek. Dla kazdej cechy danych tworzymy drzewo o glebokosci rownej jeden i uzywamy go do klasyfikacji. Nastepnie porownujemy otrzymane klasyfikacje i wybieramy drzewo i ceche, ktore najlepiej poradzilo sobie z klasyfikacja probek z zestawu uczacego jako kolejne drzewo w lesie. Po wyborze drzewa obliczamy, **jakie znaczenie ma ono w koncowej klasyfikacji. Uzywamy tutaj wzoru significance = 1/2 * log * ((1 - total_error) / total_error)**, gdzie total_error to suma wag blednie zaklasyfikowanych probek. Kolejnym krokiem jest aktualizacja wag probek, aby kolejne drzewo uwzglednilo bledy popelnione przez poprzednika, czyli np. jesli doszlo do **blednej klasyfikacji to zwiekszamy wagi** zwiazane z tymi probkami. Robimy to ze **wzoru new_weight = sample_weight * e^significance**. Dla **prawidlowo sklasyfikowanych zmniejszamy wagi** z podobnego wzoru, tylko significance bedzie mialo znak -,czyli **new_weight = sample_weight * e^(-significance)**. Teraz na koniec tworzymy nowy pusty zbior danych o takiej samej dlugosci, jak oryginal i metoda ruletkowa na podstawie znormalizowanych wag (tak, zeby dawaly w sumie 1) wybieramy, ktora probke umiescimy. I tak dzialamy az osiagniemy ilosc iteracji na poziomie n_esimators.\n",
    "\n",
    "Podsumowujac tworzymy plytkie drzewa i dzielimy je na grupy, gdzie kazde drzewo ma znaczenie na pewnym poziomie (significance). O ostetecznej klasyfikacji decyduje grupa o najwiekszej sumie wag."
   ]
  },
  {
   "cell_type": "code",
   "execution_count": 17,
   "metadata": {},
   "outputs": [],
   "source": [
    "ABC = AdaBoostClassifier(n_estimators = 220, random_state = 42)"
   ]
  },
  {
   "cell_type": "markdown",
   "metadata": {},
   "source": [
    "<h2> 5.1 Dla danych o wysokiej liczebnosci cech. </h2>"
   ]
  },
  {
   "cell_type": "code",
   "execution_count": 18,
   "metadata": {},
   "outputs": [
    {
     "name": "stdout",
     "output_type": "stream",
     "text": [
      "Wynik dla zbioru treningowego: 0.8299, wynik dla zbioru testowego: 0.7645\n"
     ]
    }
   ],
   "source": [
    "pred_train, pred_test = dummy_fit_predict(ABC, X_train[['sex_mapped', 'cabin_mapped']], X_test[['sex_mapped', 'cabin_mapped']], y_train)\n",
    "\n",
    "print(f'Wynik dla zbioru treningowego: {dummy_roc_auc_score(y_train, pred_train):.4f}, wynik dla zbioru testowego: {dummy_roc_auc_score(y_test, pred_test):.4f}')\n",
    "\n",
    "add_confusion_matrix(y_test, pred_test)"
   ]
  },
  {
   "cell_type": "markdown",
   "metadata": {},
   "source": [
    "<h2> 5.2 Dla danych o niskiej liczebnosci cech. </h2>"
   ]
  },
  {
   "cell_type": "code",
   "execution_count": 19,
   "metadata": {},
   "outputs": [
    {
     "name": "stdout",
     "output_type": "stream",
     "text": [
      "Wynik dla zbioru treningowego: 0.8161, wynik dla zbioru testowego: 0.8001\n"
     ]
    }
   ],
   "source": [
    "pred_train, pred_test = dummy_fit_predict(ABC, X_train[['sex_mapped', 'CabinReduced_mapped']], X_test[['sex_mapped', 'CabinReduced_mapped']], y_train)\n",
    "\n",
    "print(f'Wynik dla zbioru treningowego: {dummy_roc_auc_score(y_train, pred_train):.4f}, wynik dla zbioru testowego: {dummy_roc_auc_score(y_test, pred_test):.4f}')\n",
    "\n",
    "add_confusion_matrix(y_test, pred_test, confusion_matrix_list_low)"
   ]
  },
  {
   "cell_type": "markdown",
   "metadata": {},
   "source": [
    "Ostatni klasyfikator bez zaskoczen wykazuje podobne zachowanie jak poprzednicy - zauwazalny overfitting dla danych o wysokiej kardynalnosci i nizsze, zblizone do siebie wyniki dla danych o niskiej liczebnosci cech."
   ]
  },
  {
   "cell_type": "markdown",
   "metadata": {},
   "source": [
    "<h1> 6. Analiza przeprowadzonych badan. </h1>\n",
    "\n",
    "<h2> 6.1 Tablice pomylek dla danych o wysokiej liczebnosci cech dla zbiorow testowych. </h2>"
   ]
  },
  {
   "cell_type": "code",
   "execution_count": 25,
   "metadata": {},
   "outputs": [],
   "source": [
    "classifiers = ['RandomForestClassifier', 'LogisticRegression', 'GradientBoostingClassifier', 'AdaBoostClassifier']\n",
    "\n",
    "def plot_confusion_matrix(classifiers: list = classifiers, confusion_matrix_list: list = confusion_matrix_list_high) -> None:\n",
    "    f, axes = plt.subplots(1, 4, figsize=(20, 5), sharey='row')\n",
    "\n",
    "    for i in range(4):\n",
    "        disp = ConfusionMatrixDisplay(confusion_matrix_list[i], display_labels = ['Sex', 'Cabin'])\n",
    "        disp.plot(ax = axes[i], xticks_rotation=45, cmap = plt.cm.Blues)\n",
    "        disp.ax_.set_title(classifiers[i])\n",
    "        disp.im_.colorbar.remove()\n",
    "        disp.ax_.set_xlabel('')\n",
    "        if i!=0:\n",
    "            disp.ax_.set_ylabel('')\n",
    "\n",
    "    f.text(0.4, 0.1, 'Predicted label', ha='left')\n",
    "    plt.subplots_adjust(wspace=0.40, hspace=0.1)\n",
    "    f.colorbar(disp.im_, ax=axes)\n",
    "    plt.show()"
   ]
  },
  {
   "cell_type": "code",
   "execution_count": 26,
   "metadata": {},
   "outputs": [
    {
     "data": {
      "image/png": "[encoded data removed]",
      "text/plain": [
       "<Figure size 1440x360 with 5 Axes>"
      ]
     },
     "metadata": {
      "needs_background": "light"
     },
     "output_type": "display_data"
    }
   ],
   "source": [
    "plot_confusion_matrix()"
   ]
  },
  {
   "cell_type": "markdown",
   "metadata": {},
   "source": [
    "Na podstawie powyzszych macierzy bledow mozemy odczytac jaka czesc probek zostala zaklasyfikowana prawidlowo dla danego klasyfikatora. **Najlepiej spisal sie RandomForests - 305 poprawnych na 393 probki, najgorzej LogisticRegression - 296 poprawnych.** Najwiecej falszywie pozytywnych (prawy gorny rog) mamy dla AdaBoostClassifier, natomiast najwiecej falszywie negatywnych (lewy dolny rog) ukazuje sie dla RandomForest. Ogolnie mozemy powiedziec, ze algorytmy spisaly sie dosc podobnie - miedzy \"najlepszym\" a \"najgorszym\" mamy roznice na poziomie 8 klasyfikacji."
   ]
  },
  {
   "cell_type": "markdown",
   "metadata": {},
   "source": [
    "<h2> 6.2 Tablice pomylek dla danych o niskiej liczebnosci cech dla zbiorow testowych. </h2>"
   ]
  },
  {
   "cell_type": "code",
   "execution_count": 27,
   "metadata": {},
   "outputs": [
    {
     "data": {
      "image/png": "[encoded data removed]",
      "text/plain": [
       "<Figure size 1440x360 with 5 Axes>"
      ]
     },
     "metadata": {
      "needs_background": "light"
     },
     "output_type": "display_data"
    }
   ],
   "source": [
    "plot_confusion_matrix(confusion_matrix_list = confusion_matrix_list_low)"
   ]
  },
  {
   "cell_type": "markdown",
   "metadata": {},
   "source": [
    "Dla danych o niskiej liczebnosci cech klasyfikatory **RandomForests, LogisticRegression i GradientBoost** poradzily sobie **bardzo podobnie** - wyniki poprawnej klasyfikacji probek odpowiednio 304, 301 i 303. Nieco slabiej wypadl AdaBoost z wynikiem rownym 296, natomiast nie wydaje sie byc to duza roznica - ok 2% probek wiecej zle sklasyfkiowanych od najlepiej tutaj wypadajacego RandomForesta."
   ]
  },
  {
   "cell_type": "markdown",
   "metadata": {},
   "source": [
    "<h2> 6.3 Krotkie podsumowanie. </h2>"
   ]
  },
  {
   "cell_type": "markdown",
   "metadata": {},
   "source": [
    "Dla wszystkich klasyfikatorow mozemy zauwazyc podobne wyniki oraz podobne zachowanie - w kazdym wystapilo zjawisku overfittingu dla danych o wysokiej liczebnosci cech. Dla danych o niskiej liczebnosci cech wszystkie algorytmy zwrocily podobne wyniki, zblizone miedzy zbiorami treningowymi oraz testowymi i nizsze od tych wyliczonych dla danych o wysokiej kardynalnosci. **Najwieksza tendencje do nadmiernego dopasowania obserwujemy dla GradientBoostingClassifier oraz RandomForests.**\n",
    "Wedlug mnie **najlepiej sposrod badanych klasyfikatoro poradzila sobie regresja logistyczna - jest ona rowniez najprostsza w zrozumieniu dzialania.**"
   ]
  },
  {
   "cell_type": "markdown",
   "metadata": {},
   "source": [
    "<h1> 7. Predict() vs predict_proba() </h1>\n",
    "\n",
    "<li> <b> predict() </b> - przewiduje rzeczywista klase, zwraca liczbe np. 0, 1 </li>\n",
    "<li> <b> predict_proba() </b> - przewiduje prawodopodobienstwo przypisania klasy do danego obiektu np. 0.3, 0.6 </li>"
   ]
  }
 ],
 "metadata": {
  "interpreter": {
   "hash": "916dbcbb3f70747c44a77c7bcd40155683ae19c65e1c03b4aa3499c5328201f1"
  },
  "kernelspec": {
   "display_name": "Python 3.9.7 64-bit",
   "language": "python",
   "name": "python3"
  },
  "language_info": {
   "codemirror_mode": {
    "name": "ipython",
    "version": 3
   },
   "file_extension": ".py",
   "mimetype": "text/x-python",
   "name": "python",
   "nbconvert_exporter": "python",
   "pygments_lexer": "ipython3",
   "version": "3.9.7"
  },
  "orig_nbformat": 4
 },
 "nbformat": 4,
 "nbformat_minor": 2
}
