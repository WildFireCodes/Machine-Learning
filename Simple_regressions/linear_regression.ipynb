{
 "cells": [
  {
   "cell_type": "code",
   "execution_count": 2,
   "metadata": {},
   "outputs": [],
   "source": [
    "import pandas as pd\n",
    "import numpy as np\n",
    "import matplotlib.pyplot as plt"
   ]
  },
  {
   "cell_type": "markdown",
   "metadata": {},
   "source": [
    "1. Import"
   ]
  },
  {
   "cell_type": "code",
   "execution_count": 3,
   "metadata": {},
   "outputs": [
    {
     "data": {
      "text/html": [
       "<div>\n",
       "<style scoped>\n",
       "    .dataframe tbody tr th:only-of-type {\n",
       "        vertical-align: middle;\n",
       "    }\n",
       "\n",
       "    .dataframe tbody tr th {\n",
       "        vertical-align: top;\n",
       "    }\n",
       "\n",
       "    .dataframe thead th {\n",
       "        text-align: right;\n",
       "    }\n",
       "</style>\n",
       "<table border=\"1\" class=\"dataframe\">\n",
       "  <thead>\n",
       "    <tr style=\"text-align: right;\">\n",
       "      <th></th>\n",
       "      <th>YearsExperience</th>\n",
       "      <th>Salary</th>\n",
       "    </tr>\n",
       "  </thead>\n",
       "  <tbody>\n",
       "    <tr>\n",
       "      <th>0</th>\n",
       "      <td>1.1</td>\n",
       "      <td>39343.0</td>\n",
       "    </tr>\n",
       "    <tr>\n",
       "      <th>1</th>\n",
       "      <td>1.3</td>\n",
       "      <td>46205.0</td>\n",
       "    </tr>\n",
       "    <tr>\n",
       "      <th>2</th>\n",
       "      <td>1.5</td>\n",
       "      <td>37731.0</td>\n",
       "    </tr>\n",
       "    <tr>\n",
       "      <th>3</th>\n",
       "      <td>2.0</td>\n",
       "      <td>43525.0</td>\n",
       "    </tr>\n",
       "    <tr>\n",
       "      <th>4</th>\n",
       "      <td>2.2</td>\n",
       "      <td>39891.0</td>\n",
       "    </tr>\n",
       "    <tr>\n",
       "      <th>5</th>\n",
       "      <td>2.9</td>\n",
       "      <td>56642.0</td>\n",
       "    </tr>\n",
       "    <tr>\n",
       "      <th>6</th>\n",
       "      <td>3.0</td>\n",
       "      <td>60150.0</td>\n",
       "    </tr>\n",
       "    <tr>\n",
       "      <th>7</th>\n",
       "      <td>3.2</td>\n",
       "      <td>54445.0</td>\n",
       "    </tr>\n",
       "    <tr>\n",
       "      <th>8</th>\n",
       "      <td>3.2</td>\n",
       "      <td>64445.0</td>\n",
       "    </tr>\n",
       "    <tr>\n",
       "      <th>9</th>\n",
       "      <td>3.7</td>\n",
       "      <td>57189.0</td>\n",
       "    </tr>\n",
       "  </tbody>\n",
       "</table>\n",
       "</div>"
      ],
      "text/plain": [
       "   YearsExperience   Salary\n",
       "0              1.1  39343.0\n",
       "1              1.3  46205.0\n",
       "2              1.5  37731.0\n",
       "3              2.0  43525.0\n",
       "4              2.2  39891.0\n",
       "5              2.9  56642.0\n",
       "6              3.0  60150.0\n",
       "7              3.2  54445.0\n",
       "8              3.2  64445.0\n",
       "9              3.7  57189.0"
      ]
     },
     "execution_count": 3,
     "metadata": {},
     "output_type": "execute_result"
    }
   ],
   "source": [
    "data = pd.read_csv('Salary_Data.csv')\n",
    "data.head(10)"
   ]
  },
  {
   "cell_type": "code",
   "execution_count": 4,
   "metadata": {},
   "outputs": [
    {
     "data": {
      "text/plain": [
       "YearsExperience    0\n",
       "Salary             0\n",
       "dtype: int64"
      ]
     },
     "execution_count": 4,
     "metadata": {},
     "output_type": "execute_result"
    }
   ],
   "source": [
    "data.isnull().sum()"
   ]
  },
  {
   "cell_type": "markdown",
   "metadata": {},
   "source": [
    "2. Split into train and test sets"
   ]
  },
  {
   "cell_type": "code",
   "execution_count": 5,
   "metadata": {},
   "outputs": [],
   "source": [
    "X = data.iloc[:, :-1].values\n",
    "y = data.iloc[:, -1].values\n"
   ]
  },
  {
   "cell_type": "code",
   "execution_count": 6,
   "metadata": {},
   "outputs": [],
   "source": [
    "from sklearn.model_selection import train_test_split\n",
    "X_train, X_test, y_train, y_test = train_test_split(X, y, test_size = 0.3, random_state = 0)\n"
   ]
  },
  {
   "cell_type": "markdown",
   "metadata": {},
   "source": [
    "3. Training regression"
   ]
  },
  {
   "cell_type": "code",
   "execution_count": 7,
   "metadata": {},
   "outputs": [
    {
     "data": {
      "text/plain": [
       "LinearRegression()"
      ]
     },
     "execution_count": 7,
     "metadata": {},
     "output_type": "execute_result"
    }
   ],
   "source": [
    "from sklearn.linear_model import LinearRegression\n",
    "regressor = LinearRegression()\n",
    "regressor.fit(X_train, y_train) #X - independent vars of the training set, Y dependent vars vector"
   ]
  },
  {
   "cell_type": "markdown",
   "metadata": {},
   "source": [
    "4. Prediction"
   ]
  },
  {
   "cell_type": "code",
   "execution_count": 8,
   "metadata": {},
   "outputs": [
    {
     "data": {
      "text/plain": [
       "array([ 40817.78327049, 123188.08258899,  65154.46261459,  63282.41035735,\n",
       "       115699.87356004, 108211.66453108, 116635.89968866,  64218.43648597,\n",
       "        76386.77615802])"
      ]
     },
     "execution_count": 8,
     "metadata": {},
     "output_type": "execute_result"
    }
   ],
   "source": [
    "y_pred = regressor.predict(X_test) #predicted salaries\n",
    "y_pred"
   ]
  },
  {
   "cell_type": "markdown",
   "metadata": {},
   "source": [
    "5. Simple visualization"
   ]
  },
  {
   "cell_type": "code",
   "execution_count": 9,
   "metadata": {},
   "outputs": [
    {
     "data": {
      "text/plain": [
       "Text(0, 0.5, 'Salary')"
      ]
     },
     "execution_count": 9,
     "metadata": {},
     "output_type": "execute_result"
    },
    {
     "data": {
      "image/png": "[encoded data removed]",
      "text/plain": [
       "<Figure size 432x288 with 1 Axes>"
      ]
     },
     "metadata": {
      "needs_background": "light"
     },
     "output_type": "display_data"
    }
   ],
   "source": [
    "plt.scatter(X_train, y_train, color = 'red')\n",
    "plt.plot(X_train, regressor.predict(X_train), color = 'blue')\n",
    "plt.title('Salary vs Experience (Training set)')\n",
    "plt.xlabel('Years of Experience')\n",
    "plt.ylabel('Salary')\n"
   ]
  },
  {
   "cell_type": "code",
   "execution_count": 10,
   "metadata": {},
   "outputs": [
    {
     "data": {
      "text/plain": [
       "Text(0, 0.5, 'Salary')"
      ]
     },
     "execution_count": 10,
     "metadata": {},
     "output_type": "execute_result"
    },
    {
     "data": {
      "image/png": "[encoded data removed]",
      "text/plain": [
       "<Figure size 432x288 with 1 Axes>"
      ]
     },
     "metadata": {
      "needs_background": "light"
     },
     "output_type": "display_data"
    }
   ],
   "source": [
    "plt.scatter(X_test, y_test, color = 'red')\n",
    "plt.plot(X_train, regressor.predict(X_train), color = 'blue')\n",
    "plt.title('Salary vs Experience (Test set)')\n",
    "plt.xlabel('Years of Experience')\n",
    "plt.ylabel('Salary')"
   ]
  },
  {
   "cell_type": "markdown",
   "metadata": {},
   "source": [
    "6. Simple linear regression from scratch\n",
    "\n"
   ]
  },
  {
   "cell_type": "markdown",
   "metadata": {},
   "source": [
    "<img src=\"m.png\">"
   ]
  },
  {
   "cell_type": "code",
   "execution_count": 11,
   "metadata": {},
   "outputs": [],
   "source": [
    "def SimpleRegression(X, y):\n",
    "    mean_X = np.mean(X)\n",
    "    mean_y = np.mean(y)\n",
    "\n",
    "    num = 0\n",
    "    den = 0\n",
    "\n",
    "    for i in range(len(X)):\n",
    "        num += (X[i] - mean_X) * (y[i] - mean_y)\n",
    "        den += (X[i] - mean_X) ** 2\n",
    "\n",
    "    m = num/den\n",
    "    \n",
    "    c = mean_y - (m * mean_X)\n",
    "    \n",
    "    return c, m\n"
   ]
  },
  {
   "cell_type": "code",
   "execution_count": 12,
   "metadata": {},
   "outputs": [
    {
     "name": "stdout",
     "output_type": "stream",
     "text": [
      "c: [25792.20019867] m: [9449.96232146]\n"
     ]
    }
   ],
   "source": [
    "c, m = SimpleRegression(X, y)\n",
    "print('c:',c, 'm:',m)"
   ]
  },
  {
   "cell_type": "code",
   "execution_count": 25,
   "metadata": {},
   "outputs": [
    {
     "name": "stdout",
     "output_type": "stream",
     "text": [
      "[ 36187.15875227  36276.07731666  36364.99588104  36453.91444543\n",
      "  36542.83300981  36631.7515742   36720.67013859  36809.58870297\n",
      "  36898.50726736  36987.42583174  37076.34439613  37165.26296052\n",
      "  37254.1815249   37343.10008929  37432.01865367  37520.93721806\n",
      "  37609.85578245  37698.77434683  37787.69291122  37876.6114756\n",
      "  37965.53003999  38054.44860438  38143.36716876  38232.28573315\n",
      "  38321.20429753  38410.12286192  38499.04142631  38587.95999069\n",
      "  38676.87855508  38765.79711947  38854.71568385  38943.63424824\n",
      "  39032.55281262  39121.47137701  39210.3899414   39299.30850578\n",
      "  39388.22707017  39477.14563455  39566.06419894  39654.98276333\n",
      "  39743.90132771  39832.8198921   39921.73845648  40010.65702087\n",
      "  40099.57558526  40188.49414964  40277.41271403  40366.33127841\n",
      "  40455.2498428   40544.16840719  40633.08697157  40722.00553596\n",
      "  40810.92410034  40899.84266473  40988.76122912  41077.6797935\n",
      "  41166.59835789  41255.51692227  41344.43548666  41433.35405105\n",
      "  41522.27261543  41611.19117982  41700.10974421  41789.02830859\n",
      "  41877.94687298  41966.86543736  42055.78400175  42144.70256614\n",
      "  42233.62113052  42322.53969491  42411.45825929  42500.37682368\n",
      "  42589.29538807  42678.21395245  42767.13251684  42856.05108122\n",
      "  42944.96964561  43033.88821     43122.80677438  43211.72533877\n",
      "  43300.64390315  43389.56246754  43478.48103193  43567.39959631\n",
      "  43656.3181607   43745.23672508  43834.15528947  43923.07385386\n",
      "  44011.99241824  44100.91098263  44189.82954702  44278.7481114\n",
      "  44367.66667579  44456.58524017  44545.50380456  44634.42236895\n",
      "  44723.34093333  44812.25949772  44901.1780621   44990.09662649\n",
      "  45079.01519088  45167.93375526  45256.85231965  45345.77088403\n",
      "  45434.68944842  45523.60801281  45612.52657719  45701.44514158\n",
      "  45790.36370596  45879.28227035  45968.20083474  46057.11939912\n",
      "  46146.03796351  46234.95652789  46323.87509228  46412.79365667\n",
      "  46501.71222105  46590.63078544  46679.54934982  46768.46791421\n",
      "  46857.3864786   46946.30504298  47035.22360737  47124.14217176\n",
      "  47213.06073614  47301.97930053  47390.89786491  47479.8164293\n",
      "  47568.73499369  47657.65355807  47746.57212246  47835.49068684\n",
      "  47924.40925123  48013.32781562  48102.24638     48191.16494439\n",
      "  48280.08350877  48369.00207316  48457.92063755  48546.83920193\n",
      "  48635.75776632  48724.6763307   48813.59489509  48902.51345948\n",
      "  48991.43202386  49080.35058825  49169.26915263  49258.18771702\n",
      "  49347.10628141  49436.02484579  49524.94341018  49613.86197456\n",
      "  49702.78053895  49791.69910334  49880.61766772  49969.53623211\n",
      "  50058.4547965   50147.37336088  50236.29192527  50325.21048965\n",
      "  50414.12905404  50503.04761843  50591.96618281  50680.8847472\n",
      "  50769.80331158  50858.72187597  50947.64044036  51036.55900474\n",
      "  51125.47756913  51214.39613351  51303.3146979   51392.23326229\n",
      "  51481.15182667  51570.07039106  51658.98895544  51747.90751983\n",
      "  51836.82608422  51925.7446486   52014.66321299  52103.58177737\n",
      "  52192.50034176  52281.41890615  52370.33747053  52459.25603492\n",
      "  52548.17459931  52637.09316369  52726.01172808  52814.93029246\n",
      "  52903.84885685  52992.76742124  53081.68598562  53170.60455001\n",
      "  53259.52311439  53348.44167878  53437.36024317  53526.27880755\n",
      "  53615.19737194  53704.11593632  53793.03450071  53881.9530651\n",
      "  53970.87162948  54059.79019387  54148.70875825  54237.62732264\n",
      "  54326.54588703  54415.46445141  54504.3830158   54593.30158018\n",
      "  54682.22014457  54771.13870896  54860.05727334  54948.97583773\n",
      "  55037.89440211  55126.8129665   55215.73153089  55304.65009527\n",
      "  55393.56865966  55482.48722405  55571.40578843  55660.32435282\n",
      "  55749.2429172   55838.16148159  55927.08004598  56015.99861036\n",
      "  56104.91717475  56193.83573913  56282.75430352  56371.67286791\n",
      "  56460.59143229  56549.50999668  56638.42856106  56727.34712545\n",
      "  56816.26568984  56905.18425422  56994.10281861  57083.02138299\n",
      "  57171.93994738  57260.85851177  57349.77707615  57438.69564054\n",
      "  57527.61420492  57616.53276931  57705.4513337   57794.36989808\n",
      "  57883.28846247  57972.20702685  58061.12559124  58150.04415563\n",
      "  58238.96272001  58327.8812844   58416.79984879  58505.71841317\n",
      "  58594.63697756  58683.55554194  58772.47410633  58861.39267072\n",
      "  58950.3112351   59039.22979949  59128.14836387  59217.06692826\n",
      "  59305.98549265  59394.90405703  59483.82262142  59572.7411858\n",
      "  59661.65975019  59750.57831458  59839.49687896  59928.41544335\n",
      "  60017.33400773  60106.25257212  60195.17113651  60284.08970089\n",
      "  60373.00826528  60461.92682966  60550.84539405  60639.76395844\n",
      "  60728.68252282  60817.60108721  60906.5196516   60995.43821598\n",
      "  61084.35678037  61173.27534475  61262.19390914  61351.11247353\n",
      "  61440.03103791  61528.9496023   61617.86816668  61706.78673107\n",
      "  61795.70529546  61884.62385984  61973.54242423  62062.46098861\n",
      "  62151.379553    62240.29811739  62329.21668177  62418.13524616\n",
      "  62507.05381054  62595.97237493  62684.89093932  62773.8095037\n",
      "  62862.72806809  62951.64663247  63040.56519686  63129.48376125\n",
      "  63218.40232563  63307.32089002  63396.2394544   63485.15801879\n",
      "  63574.07658318  63662.99514756  63751.91371195  63840.83227634\n",
      "  63929.75084072  64018.66940511  64107.58796949  64196.50653388\n",
      "  64285.42509827  64374.34366265  64463.26222704  64552.18079142\n",
      "  64641.09935581  64730.0179202   64818.93648458  64907.85504897\n",
      "  64996.77361335  65085.69217774  65174.61074213  65263.52930651\n",
      "  65352.4478709   65441.36643528  65530.28499967  65619.20356406\n",
      "  65708.12212844  65797.04069283  65885.95925721  65974.8778216\n",
      "  66063.79638599  66152.71495037  66241.63351476  66330.55207914\n",
      "  66419.47064353  66508.38920792  66597.3077723   66686.22633669\n",
      "  66775.14490108  66864.06346546  66952.98202985  67041.90059423\n",
      "  67130.81915862  67219.73772301  67308.65628739  67397.57485178\n",
      "  67486.49341616  67575.41198055  67664.33054494  67753.24910932\n",
      "  67842.16767371  67931.08623809  68020.00480248  68108.92336687\n",
      "  68197.84193125  68286.76049564  68375.67906002  68464.59762441\n",
      "  68553.5161888   68642.43475318  68731.35331757  68820.27188195\n",
      "  68909.19044634  68998.10901073  69087.02757511  69175.9461395\n",
      "  69264.86470389  69353.78326827  69442.70183266  69531.62039704\n",
      "  69620.53896143  69709.45752582  69798.3760902   69887.29465459\n",
      "  69976.21321897  70065.13178336  70154.05034775  70242.96891213\n",
      "  70331.88747652  70420.8060409   70509.72460529  70598.64316968\n",
      "  70687.56173406  70776.48029845  70865.39886283  70954.31742722\n",
      "  71043.23599161  71132.15455599  71221.07312038  71309.99168476\n",
      "  71398.91024915  71487.82881354  71576.74737792  71665.66594231\n",
      "  71754.58450669  71843.50307108  71932.42163547  72021.34019985\n",
      "  72110.25876424  72199.17732863  72288.09589301  72377.0144574\n",
      "  72465.93302178  72554.85158617  72643.77015056  72732.68871494\n",
      "  72821.60727933  72910.52584371  72999.4444081   73088.36297249\n",
      "  73177.28153687  73266.20010126  73355.11866564  73444.03723003\n",
      "  73532.95579442  73621.8743588   73710.79292319  73799.71148757\n",
      "  73888.63005196  73977.54861635  74066.46718073  74155.38574512\n",
      "  74244.3043095   74333.22287389  74422.14143828  74511.06000266\n",
      "  74599.97856705  74688.89713143  74777.81569582  74866.73426021\n",
      "  74955.65282459  75044.57138898  75133.48995337  75222.40851775\n",
      "  75311.32708214  75400.24564652  75489.16421091  75578.0827753\n",
      "  75667.00133968  75755.91990407  75844.83846845  75933.75703284\n",
      "  76022.67559723  76111.59416161  76200.512726    76289.43129038\n",
      "  76378.34985477  76467.26841916  76556.18698354  76645.10554793\n",
      "  76734.02411231  76822.9426767   76911.86124109  77000.77980547\n",
      "  77089.69836986  77178.61693424  77267.53549863  77356.45406302\n",
      "  77445.3726274   77534.29119179  77623.20975617  77712.12832056\n",
      "  77801.04688495  77889.96544933  77978.88401372  78067.80257811\n",
      "  78156.72114249  78245.63970688  78334.55827126  78423.47683565\n",
      "  78512.39540004  78601.31396442  78690.23252881  78779.15109319\n",
      "  78868.06965758  78956.98822197  79045.90678635  79134.82535074\n",
      "  79223.74391512  79312.66247951  79401.5810439   79490.49960828\n",
      "  79579.41817267  79668.33673705  79757.25530144  79846.17386583\n",
      "  79935.09243021  80024.0109946   80112.92955898  80201.84812337\n",
      "  80290.76668776  80379.68525214  80468.60381653  80557.52238092\n",
      "  80646.4409453   80735.35950969  80824.27807407  80913.19663846\n",
      "  81002.11520285  81091.03376723  81179.95233162  81268.870896\n",
      "  81357.78946039  81446.70802478  81535.62658916  81624.54515355\n",
      "  81713.46371793  81802.38228232  81891.30084671  81980.21941109\n",
      "  82069.13797548  82158.05653986  82246.97510425  82335.89366864\n",
      "  82424.81223302  82513.73079741  82602.64936179  82691.56792618\n",
      "  82780.48649057  82869.40505495  82958.32361934  83047.24218372\n",
      "  83136.16074811  83225.0793125   83313.99787688  83402.91644127\n",
      "  83491.83500566  83580.75357004  83669.67213443  83758.59069881\n",
      "  83847.5092632   83936.42782759  84025.34639197  84114.26495636\n",
      "  84203.18352074  84292.10208513  84381.02064952  84469.9392139\n",
      "  84558.85777829  84647.77634267  84736.69490706  84825.61347145\n",
      "  84914.53203583  85003.45060022  85092.3691646   85181.28772899\n",
      "  85270.20629338  85359.12485776  85448.04342215  85536.96198653\n",
      "  85625.88055092  85714.79911531  85803.71767969  85892.63624408\n",
      "  85981.55480846  86070.47337285  86159.39193724  86248.31050162\n",
      "  86337.22906601  86426.1476304   86515.06619478  86603.98475917\n",
      "  86692.90332355  86781.82188794  86870.74045233  86959.65901671\n",
      "  87048.5775811   87137.49614548  87226.41470987  87315.33327426\n",
      "  87404.25183864  87493.17040303  87582.08896741  87671.0075318\n",
      "  87759.92609619  87848.84466057  87937.76322496  88026.68178934\n",
      "  88115.60035373  88204.51891812  88293.4374825   88382.35604689\n",
      "  88471.27461127  88560.19317566  88649.11174005  88738.03030443\n",
      "  88826.94886882  88915.86743321  89004.78599759  89093.70456198\n",
      "  89182.62312636  89271.54169075  89360.46025514  89449.37881952\n",
      "  89538.29738391  89627.21594829  89716.13451268  89805.05307707\n",
      "  89893.97164145  89982.89020584  90071.80877022  90160.72733461\n",
      "  90249.645899    90338.56446338  90427.48302777  90516.40159215\n",
      "  90605.32015654  90694.23872093  90783.15728531  90872.0758497\n",
      "  90960.99441408  91049.91297847  91138.83154286  91227.75010724\n",
      "  91316.66867163  91405.58723601  91494.5058004   91583.42436479\n",
      "  91672.34292917  91761.26149356  91850.18005795  91939.09862233\n",
      "  92028.01718672  92116.9357511   92205.85431549  92294.77287988\n",
      "  92383.69144426  92472.61000865  92561.52857303  92650.44713742\n",
      "  92739.36570181  92828.28426619  92917.20283058  93006.12139496\n",
      "  93095.03995935  93183.95852374  93272.87708812  93361.79565251\n",
      "  93450.71421689  93539.63278128  93628.55134567  93717.46991005\n",
      "  93806.38847444  93895.30703882  93984.22560321  94073.1441676\n",
      "  94162.06273198  94250.98129637  94339.89986075  94428.81842514\n",
      "  94517.73698953  94606.65555391  94695.5741183   94784.49268269\n",
      "  94873.41124707  94962.32981146  95051.24837584  95140.16694023\n",
      "  95229.08550462  95318.004069    95406.92263339  95495.84119777\n",
      "  95584.75976216  95673.67832655  95762.59689093  95851.51545532\n",
      "  95940.4340197   96029.35258409  96118.27114848  96207.18971286\n",
      "  96296.10827725  96385.02684163  96473.94540602  96562.86397041\n",
      "  96651.78253479  96740.70109918  96829.61966356  96918.53822795\n",
      "  97007.45679234  97096.37535672  97185.29392111  97274.2124855\n",
      "  97363.13104988  97452.04961427  97540.96817865  97629.88674304\n",
      "  97718.80530743  97807.72387181  97896.6424362   97985.56100058\n",
      "  98074.47956497  98163.39812936  98252.31669374  98341.23525813\n",
      "  98430.15382251  98519.0723869   98607.99095129  98696.90951567\n",
      "  98785.82808006  98874.74664444  98963.66520883  99052.58377322\n",
      "  99141.5023376   99230.42090199  99319.33946637  99408.25803076\n",
      "  99497.17659515  99586.09515953  99675.01372392  99763.9322883\n",
      "  99852.85085269  99941.76941708 100030.68798146 100119.60654585\n",
      " 100208.52511024 100297.44367462 100386.36223901 100475.28080339\n",
      " 100564.19936778 100653.11793217 100742.03649655 100830.95506094\n",
      " 100919.87362532 101008.79218971 101097.7107541  101186.62931848\n",
      " 101275.54788287 101364.46644725 101453.38501164 101542.30357603\n",
      " 101631.22214041 101720.1407048  101809.05926918 101897.97783357\n",
      " 101986.89639796 102075.81496234 102164.73352673 102253.65209111\n",
      " 102342.5706555  102431.48921989 102520.40778427 102609.32634866\n",
      " 102698.24491304 102787.16347743 102876.08204182 102965.0006062\n",
      " 103053.91917059 103142.83773498 103231.75629936 103320.67486375\n",
      " 103409.59342813 103498.51199252 103587.43055691 103676.34912129\n",
      " 103765.26768568 103854.18625006 103943.10481445 104032.02337884\n",
      " 104120.94194322 104209.86050761 104298.77907199 104387.69763638\n",
      " 104476.61620077 104565.53476515 104654.45332954 104743.37189392\n",
      " 104832.29045831 104921.2090227  105010.12758708 105099.04615147\n",
      " 105187.96471585 105276.88328024 105365.80184463 105454.72040901\n",
      " 105543.6389734  105632.55753779 105721.47610217 105810.39466656\n",
      " 105899.31323094 105988.23179533 106077.15035972 106166.0689241\n",
      " 106254.98748849 106343.90605287 106432.82461726 106521.74318165\n",
      " 106610.66174603 106699.58031042 106788.4988748  106877.41743919\n",
      " 106966.33600358 107055.25456796 107144.17313235 107233.09169673\n",
      " 107322.01026112 107410.92882551 107499.84738989 107588.76595428\n",
      " 107677.68451866 107766.60308305 107855.52164744 107944.44021182\n",
      " 108033.35877621 108122.27734059 108211.19590498 108300.11446937\n",
      " 108389.03303375 108477.95159814 108566.87016253 108655.78872691\n",
      " 108744.7072913  108833.62585568 108922.54442007 109011.46298446\n",
      " 109100.38154884 109189.30011323 109278.21867761 109367.137242\n",
      " 109456.05580639 109544.97437077 109633.89293516 109722.81149954\n",
      " 109811.73006393 109900.64862832 109989.5671927  110078.48575709\n",
      " 110167.40432147 110256.32288586 110345.24145025 110434.16001463\n",
      " 110523.07857902 110611.9971434  110700.91570779 110789.83427218\n",
      " 110878.75283656 110967.67140095 111056.58996533 111145.50852972\n",
      " 111234.42709411 111323.34565849 111412.26422288 111501.18278727\n",
      " 111590.10135165 111679.01991604 111767.93848042 111856.85704481\n",
      " 111945.7756092  112034.69417358 112123.61273797 112212.53130235\n",
      " 112301.44986674 112390.36843113 112479.28699551 112568.2055599\n",
      " 112657.12412428 112746.04268867 112834.96125306 112923.87981744\n",
      " 113012.79838183 113101.71694621 113190.6355106  113279.55407499\n",
      " 113368.47263937 113457.39120376 113546.30976814 113635.22833253\n",
      " 113724.14689692 113813.0654613  113901.98402569 113990.90259008\n",
      " 114079.82115446 114168.73971885 114257.65828323 114346.57684762\n",
      " 114435.49541201 114524.41397639 114613.33254078 114702.25110516\n",
      " 114791.16966955 114880.08823394 114969.00679832 115057.92536271\n",
      " 115146.84392709 115235.76249148 115324.68105587 115413.59962025\n",
      " 115502.51818464 115591.43674902 115680.35531341 115769.2738778\n",
      " 115858.19244218 115947.11100657 116036.02957095 116124.94813534\n",
      " 116213.86669973 116302.78526411 116391.7038285  116480.62239288\n",
      " 116569.54095727 116658.45952166 116747.37808604 116836.29665043\n",
      " 116925.21521482 117014.1337792  117103.05234359 117191.97090797\n",
      " 117280.88947236 117369.80803675 117458.72660113 117547.64516552\n",
      " 117636.5637299  117725.48229429 117814.40085868 117903.31942306\n",
      " 117992.23798745 118081.15655183 118170.07511622 118258.99368061\n",
      " 118347.91224499 118436.83080938 118525.74937376 118614.66793815\n",
      " 118703.58650254 118792.50506692 118881.42363131 118970.34219569\n",
      " 119059.26076008 119148.17932447 119237.09788885 119326.01645324\n",
      " 119414.93501762 119503.85358201 119592.7721464  119681.69071078\n",
      " 119770.60927517 119859.52783956 119948.44640394 120037.36496833\n",
      " 120126.28353271 120215.2020971  120304.12066149 120393.03922587\n",
      " 120481.95779026 120570.87635464 120659.79491903 120748.71348342\n",
      " 120837.6320478  120926.55061219 121015.46917657 121104.38774096\n",
      " 121193.30630535 121282.22486973 121371.14343412 121460.0619985\n",
      " 121548.98056289 121637.89912728 121726.81769166 121815.73625605\n",
      " 121904.65482043 121993.57338482 122082.49194921 122171.41051359\n",
      " 122260.32907798 122349.24764237 122438.16620675 122527.08477114\n",
      " 122616.00333552 122704.92189991 122793.8404643  122882.75902868\n",
      " 122971.67759307 123060.59615745 123149.51472184 123238.43328623\n",
      " 123327.35185061 123416.270415   123505.18897938 123594.10754377\n",
      " 123683.02610816 123771.94467254 123860.86323693 123949.78180131\n",
      " 124038.7003657  124127.61893009 124216.53749447 124305.45605886\n",
      " 124394.37462324 124483.29318763 124572.21175202 124661.1303164\n",
      " 124750.04888079 124838.96744517 124927.88600956 125016.80457395]\n"
     ]
    },
    {
     "data": {
      "text/plain": [
       "Text(0, 0.5, 'Salary')"
      ]
     },
     "execution_count": 25,
     "metadata": {},
     "output_type": "execute_result"
    },
    {
     "data": {
      "image/png": "[encoded data removed]",
      "text/plain": [
       "<Figure size 864x864 with 2 Axes>"
      ]
     },
     "metadata": {
      "needs_background": "light"
     },
     "output_type": "display_data"
    }
   ],
   "source": [
    "max_x = np.max(X_train) \n",
    "min_x = np.min(X_train)\n",
    "\n",
    "x = np.linspace(min_x, max_x, 1000)\n",
    "y1 = c + m * x \n",
    "print(y1)\n",
    "\n",
    "plt.subplots(2, 2, figsize = (12, 12))\n",
    "plt.subplot(1, 2, 1).scatter(X_train, y_train)\n",
    "plt.plot(x, y1, color='red', label='Regression Line')\n",
    "plt.title('Salary vs Experience (Train set) -  \\n dummy regression')\n",
    "plt.xlabel('Years of Experience')\n",
    "plt.ylabel('Salary')\n",
    "\n",
    "plt.subplot(1, 2, 2).scatter(X_train, y_train, color = 'red')\n",
    "plt.plot(X_train, regressor.predict(X_train), color = 'blue')\n",
    "plt.title('Salary vs Experience (Training set)')\n",
    "plt.xlabel('Years of Experience')\n",
    "plt.ylabel('Salary')"
   ]
  },
  {
   "cell_type": "markdown",
   "metadata": {},
   "source": [
    "7. R square method (goodness of fit)"
   ]
  },
  {
   "cell_type": "code",
   "execution_count": 42,
   "metadata": {},
   "outputs": [
    {
     "name": "stdout",
     "output_type": "stream",
     "text": [
      "0.9565144135078991\n"
     ]
    }
   ],
   "source": [
    "from sklearn.metrics import mean_squared_error\n",
    "\n",
    "mse = regressor.score(X, y)\n",
    "print(mse)"
   ]
  },
  {
   "cell_type": "code",
   "execution_count": 39,
   "metadata": {},
   "outputs": [],
   "source": [
    "def R_squared(yp, y, m):\n",
    "    mean_y = np.mean(y)\n",
    "    r1 = 0\n",
    "    r2 = 0\n",
    "\n",
    "    for i in range(len(m)):\n",
    "        r1 += (yp[i] - y[i]) ** 2\n",
    "        r2 += (y[i] - mean_y) ** 2\n",
    "    \n",
    "    score = 1 - (r1 / r2)\n",
    "\n",
    "    return score"
   ]
  },
  {
   "cell_type": "code",
   "execution_count": 43,
   "metadata": {},
   "outputs": [
    {
     "name": "stdout",
     "output_type": "stream",
     "text": [
      "0.9925895364542707\n"
     ]
    }
   ],
   "source": [
    "mse_from_scratch = R_squared(y1, y, m)\n",
    "print(mse_from_scratch)"
   ]
  }
 ],
 "metadata": {
  "interpreter": {
   "hash": "e7370f93d1d0cde622a1f8e1c04877d8463912d04d973331ad4851f04de6915a"
  },
  "kernelspec": {
   "display_name": "Python 3.9.7 64-bit",
   "language": "python",
   "name": "python3"
  },
  "language_info": {
   "codemirror_mode": {
    "name": "ipython",
    "version": 3
   },
   "file_extension": ".py",
   "mimetype": "text/x-python",
   "name": "python",
   "nbconvert_exporter": "python",
   "pygments_lexer": "ipython3",
   "version": "3.9.7"
  },
  "orig_nbformat": 4
 },
 "nbformat": 4,
 "nbformat_minor": 2
}
